{
 "cells": [
  {
   "cell_type": "code",
   "execution_count": 12,
   "metadata": {},
   "outputs": [],
   "source": [
    "import pandas as pd\n",
    "import numpy as np\n",
    "import matplotlib.pyplot as plt\n",
    "\n",
    "from qvalue import qvalue"
   ]
  },
  {
   "cell_type": "markdown",
   "metadata": {},
   "source": [
    "The goal of this simple script is to implement the calculation of q-values as described in:\n",
    "\n",
    "Storey, John D., and Robert Tibshirani. 2003. “Statistical Significance for Genomewide Studies.” Proceedings of the National Academy of Sciences of the United States of America 100 (16): 9440–45.\n",
    "\n",
    "The reference implementation is the \"qvalue\" R package.\n",
    "\n",
    "http://www.bioconductor.org/packages/release/bioc/html/qvalue.html\n",
    "\n",
    "To ensure that our implementation gives similar results to this package, we used the dataset mentioned in the publication (R data hedenfalk) and compare the obtained q-values."
   ]
  },
  {
   "cell_type": "code",
   "execution_count": 2,
   "metadata": {},
   "outputs": [
    {
     "data": {
      "text/html": [
       "<div>\n",
       "<style scoped>\n",
       "    .dataframe tbody tr th:only-of-type {\n",
       "        vertical-align: middle;\n",
       "    }\n",
       "\n",
       "    .dataframe tbody tr th {\n",
       "        vertical-align: top;\n",
       "    }\n",
       "\n",
       "    .dataframe thead th {\n",
       "        text-align: right;\n",
       "    }\n",
       "</style>\n",
       "<table border=\"1\" class=\"dataframe\">\n",
       "  <thead>\n",
       "    <tr style=\"text-align: right;\">\n",
       "      <th></th>\n",
       "      <th>hedenfalk_ps</th>\n",
       "      <th>hedenfalk_qs</th>\n",
       "    </tr>\n",
       "  </thead>\n",
       "  <tbody>\n",
       "    <tr>\n",
       "      <th>0</th>\n",
       "      <td>0.012126</td>\n",
       "      <td>0.088192</td>\n",
       "    </tr>\n",
       "    <tr>\n",
       "      <th>1</th>\n",
       "      <td>0.075025</td>\n",
       "      <td>0.209367</td>\n",
       "    </tr>\n",
       "    <tr>\n",
       "      <th>2</th>\n",
       "      <td>0.994921</td>\n",
       "      <td>0.667999</td>\n",
       "    </tr>\n",
       "    <tr>\n",
       "      <th>3</th>\n",
       "      <td>0.041785</td>\n",
       "      <td>0.161636</td>\n",
       "    </tr>\n",
       "    <tr>\n",
       "      <th>4</th>\n",
       "      <td>0.845814</td>\n",
       "      <td>0.632474</td>\n",
       "    </tr>\n",
       "    <tr>\n",
       "      <th>...</th>\n",
       "      <td>...</td>\n",
       "      <td>...</td>\n",
       "    </tr>\n",
       "    <tr>\n",
       "      <th>3165</th>\n",
       "      <td>0.052492</td>\n",
       "      <td>0.178934</td>\n",
       "    </tr>\n",
       "    <tr>\n",
       "      <th>3166</th>\n",
       "      <td>0.337413</td>\n",
       "      <td>0.423267</td>\n",
       "    </tr>\n",
       "    <tr>\n",
       "      <th>3167</th>\n",
       "      <td>0.539972</td>\n",
       "      <td>0.523692</td>\n",
       "    </tr>\n",
       "    <tr>\n",
       "      <th>3168</th>\n",
       "      <td>0.254675</td>\n",
       "      <td>0.372226</td>\n",
       "    </tr>\n",
       "    <tr>\n",
       "      <th>3169</th>\n",
       "      <td>0.017921</td>\n",
       "      <td>0.109363</td>\n",
       "    </tr>\n",
       "  </tbody>\n",
       "</table>\n",
       "<p>3170 rows × 2 columns</p>\n",
       "</div>"
      ],
      "text/plain": [
       "      hedenfalk_ps  hedenfalk_qs\n",
       "0         0.012126      0.088192\n",
       "1         0.075025      0.209367\n",
       "2         0.994921      0.667999\n",
       "3         0.041785      0.161636\n",
       "4         0.845814      0.632474\n",
       "...            ...           ...\n",
       "3165      0.052492      0.178934\n",
       "3166      0.337413      0.423267\n",
       "3167      0.539972      0.523692\n",
       "3168      0.254675      0.372226\n",
       "3169      0.017921      0.109363\n",
       "\n",
       "[3170 rows x 2 columns]"
      ]
     },
     "execution_count": 2,
     "metadata": {},
     "output_type": "execute_result"
    }
   ],
   "source": [
    "df = pd.read_csv(\"hedenfalk_R_results.csv.gz\")\n",
    "df"
   ]
  },
  {
   "cell_type": "code",
   "execution_count": 3,
   "metadata": {},
   "outputs": [],
   "source": [
    "df[\"py_qs\"] = qvalue(df[\"hedenfalk_ps\"].values)"
   ]
  },
  {
   "cell_type": "code",
   "execution_count": 23,
   "metadata": {},
   "outputs": [
    {
     "data": {
      "text/plain": [
       "<matplotlib.legend.Legend at 0x7f888ab5dbe0>"
      ]
     },
     "execution_count": 23,
     "metadata": {},
     "output_type": "execute_result"
    },
    {
     "data": {
      "image/png": "[encoded data removed]",
      "text/plain": [
       "<Figure size 432x288 with 1 Axes>"
      ]
     },
     "metadata": {
      "needs_background": "light"
     },
     "output_type": "display_data"
    }
   ],
   "source": [
    "plt.scatter(df[\"hedenfalk_qs\"], df[\"py_qs\"], s=0.1, color=\"black\")\n",
    "plt.plot([0, 0.8], [0, 0.8], label=\"Identity\", lw=0.8, ls=\"--\", c=\"red\")\n",
    "\n",
    "plt.xlabel(\"R Q-value\")\n",
    "plt.ylabel(\"Python Q-value (new implementation)\")\n",
    "plt.legend()"
   ]
  },
  {
   "cell_type": "code",
   "execution_count": 10,
   "metadata": {},
   "outputs": [
    {
     "data": {
      "text/plain": [
       "count    3170.000000\n",
       "mean       -0.003426\n",
       "std         0.001727\n",
       "min        -0.005943\n",
       "25%        -0.005003\n",
       "50%        -0.003562\n",
       "75%        -0.002009\n",
       "max        -0.000059\n",
       "dtype: float64"
      ]
     },
     "execution_count": 10,
     "metadata": {},
     "output_type": "execute_result"
    }
   ],
   "source": [
    "(df[\"py_qs\"] - df[\"hedenfalk_qs\"]).describe()"
   ]
  },
  {
   "cell_type": "markdown",
   "metadata": {},
   "source": [
    "The source of the difference is likely to be in the spline implementation that is different between R and Python. This results in slightly different estimate for pi_0 when lambda=1."
   ]
  },
  {
   "cell_type": "code",
   "execution_count": null,
   "metadata": {},
   "outputs": [],
   "source": []
  }
 ],
 "metadata": {
  "kernelspec": {
   "display_name": "Python 3",
   "language": "python",
   "name": "python3"
  },
  "language_info": {
   "codemirror_mode": {
    "name": "ipython",
    "version": 3
   },
   "file_extension": ".py",
   "mimetype": "text/x-python",
   "name": "python",
   "nbconvert_exporter": "python",
   "pygments_lexer": "ipython3",
   "version": "3.8.5"
  }
 },
 "nbformat": 4,
 "nbformat_minor": 4
}
